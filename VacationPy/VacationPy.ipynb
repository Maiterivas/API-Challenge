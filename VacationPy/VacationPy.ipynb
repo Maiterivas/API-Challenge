{
 "cells": [
  {
   "cell_type": "markdown",
   "metadata": {},
   "source": [
    "# VacationPy\n",
    "----\n",
    "\n",
    "#### Note\n",
    "* Keep an eye on your API usage. Use https://developers.google.com/maps/reporting/gmp-reporting as reference for how to monitor your usage and billing.\n",
    "\n",
    "* Instructions have been included for each segment. You do not have to follow them exactly, but they are included to help you think through the steps."
   ]
  },
  {
   "cell_type": "code",
   "execution_count": 7,
   "metadata": {},
   "outputs": [],
   "source": [
    "# Dependencies and Setup\n",
    "import matplotlib.pyplot as plt\n",
    "import pandas as pd\n",
    "import numpy as np\n",
    "import requests\n",
    "import gmaps\n",
    "import os\n",
    "\n",
    "# Import API key\n",
    "from api_keys import g_key"
   ]
  },
  {
   "cell_type": "markdown",
   "metadata": {},
   "source": [
    "### Store Part I results into DataFrame\n",
    "* Load the csv exported in Part I to a DataFrame"
   ]
  },
  {
   "cell_type": "code",
   "execution_count": 8,
   "metadata": {},
   "outputs": [
    {
     "data": {
      "text/html": [
       "<div>\n",
       "<style scoped>\n",
       "    .dataframe tbody tr th:only-of-type {\n",
       "        vertical-align: middle;\n",
       "    }\n",
       "\n",
       "    .dataframe tbody tr th {\n",
       "        vertical-align: top;\n",
       "    }\n",
       "\n",
       "    .dataframe thead th {\n",
       "        text-align: right;\n",
       "    }\n",
       "</style>\n",
       "<table border=\"1\" class=\"dataframe\">\n",
       "  <thead>\n",
       "    <tr style=\"text-align: right;\">\n",
       "      <th></th>\n",
       "      <th>City</th>\n",
       "      <th>Lat</th>\n",
       "      <th>Lng</th>\n",
       "      <th>Max Temp</th>\n",
       "      <th>Humidity</th>\n",
       "      <th>Cloudiness</th>\n",
       "      <th>Wind Speed</th>\n",
       "      <th>Country</th>\n",
       "      <th>Date</th>\n",
       "    </tr>\n",
       "  </thead>\n",
       "  <tbody>\n",
       "    <tr>\n",
       "      <th>0</th>\n",
       "      <td>Aksu</td>\n",
       "      <td>41.1231</td>\n",
       "      <td>80.2644</td>\n",
       "      <td>85.64</td>\n",
       "      <td>20</td>\n",
       "      <td>0</td>\n",
       "      <td>9.04</td>\n",
       "      <td>CN</td>\n",
       "      <td>1658293787</td>\n",
       "    </tr>\n",
       "    <tr>\n",
       "      <th>1</th>\n",
       "      <td>Phan Thiet</td>\n",
       "      <td>10.9333</td>\n",
       "      <td>108.1000</td>\n",
       "      <td>83.66</td>\n",
       "      <td>73</td>\n",
       "      <td>100</td>\n",
       "      <td>9.35</td>\n",
       "      <td>VN</td>\n",
       "      <td>1658293787</td>\n",
       "    </tr>\n",
       "    <tr>\n",
       "      <th>2</th>\n",
       "      <td>Alberton</td>\n",
       "      <td>46.8168</td>\n",
       "      <td>-64.0654</td>\n",
       "      <td>65.05</td>\n",
       "      <td>87</td>\n",
       "      <td>36</td>\n",
       "      <td>20.58</td>\n",
       "      <td>CA</td>\n",
       "      <td>1658293787</td>\n",
       "    </tr>\n",
       "    <tr>\n",
       "      <th>3</th>\n",
       "      <td>Vaini</td>\n",
       "      <td>-21.2000</td>\n",
       "      <td>-175.2000</td>\n",
       "      <td>73.56</td>\n",
       "      <td>100</td>\n",
       "      <td>20</td>\n",
       "      <td>11.50</td>\n",
       "      <td>TO</td>\n",
       "      <td>1658293787</td>\n",
       "    </tr>\n",
       "    <tr>\n",
       "      <th>4</th>\n",
       "      <td>Nome</td>\n",
       "      <td>64.5011</td>\n",
       "      <td>-165.4064</td>\n",
       "      <td>46.47</td>\n",
       "      <td>71</td>\n",
       "      <td>100</td>\n",
       "      <td>5.75</td>\n",
       "      <td>US</td>\n",
       "      <td>1658293536</td>\n",
       "    </tr>\n",
       "    <tr>\n",
       "      <th>...</th>\n",
       "      <td>...</td>\n",
       "      <td>...</td>\n",
       "      <td>...</td>\n",
       "      <td>...</td>\n",
       "      <td>...</td>\n",
       "      <td>...</td>\n",
       "      <td>...</td>\n",
       "      <td>...</td>\n",
       "      <td>...</td>\n",
       "    </tr>\n",
       "    <tr>\n",
       "      <th>548</th>\n",
       "      <td>Pirganj</td>\n",
       "      <td>25.8523</td>\n",
       "      <td>88.3618</td>\n",
       "      <td>88.48</td>\n",
       "      <td>69</td>\n",
       "      <td>99</td>\n",
       "      <td>8.34</td>\n",
       "      <td>BD</td>\n",
       "      <td>1658293960</td>\n",
       "    </tr>\n",
       "    <tr>\n",
       "      <th>549</th>\n",
       "      <td>Kavieng</td>\n",
       "      <td>-2.5744</td>\n",
       "      <td>150.7967</td>\n",
       "      <td>83.34</td>\n",
       "      <td>71</td>\n",
       "      <td>100</td>\n",
       "      <td>5.23</td>\n",
       "      <td>PG</td>\n",
       "      <td>1658293960</td>\n",
       "    </tr>\n",
       "    <tr>\n",
       "      <th>550</th>\n",
       "      <td>Tambopata</td>\n",
       "      <td>-12.7333</td>\n",
       "      <td>-69.1833</td>\n",
       "      <td>75.33</td>\n",
       "      <td>77</td>\n",
       "      <td>100</td>\n",
       "      <td>2.01</td>\n",
       "      <td>PE</td>\n",
       "      <td>1658293960</td>\n",
       "    </tr>\n",
       "    <tr>\n",
       "      <th>551</th>\n",
       "      <td>Fenelon Falls</td>\n",
       "      <td>44.5334</td>\n",
       "      <td>-78.7496</td>\n",
       "      <td>69.57</td>\n",
       "      <td>80</td>\n",
       "      <td>90</td>\n",
       "      <td>5.19</td>\n",
       "      <td>CA</td>\n",
       "      <td>1658293961</td>\n",
       "    </tr>\n",
       "    <tr>\n",
       "      <th>552</th>\n",
       "      <td>Maningrida</td>\n",
       "      <td>-12.0667</td>\n",
       "      <td>134.2667</td>\n",
       "      <td>85.21</td>\n",
       "      <td>37</td>\n",
       "      <td>20</td>\n",
       "      <td>8.48</td>\n",
       "      <td>AU</td>\n",
       "      <td>1658293961</td>\n",
       "    </tr>\n",
       "  </tbody>\n",
       "</table>\n",
       "<p>553 rows × 9 columns</p>\n",
       "</div>"
      ],
      "text/plain": [
       "              City      Lat       Lng  Max Temp  Humidity  Cloudiness  \\\n",
       "0             Aksu  41.1231   80.2644     85.64        20           0   \n",
       "1       Phan Thiet  10.9333  108.1000     83.66        73         100   \n",
       "2         Alberton  46.8168  -64.0654     65.05        87          36   \n",
       "3            Vaini -21.2000 -175.2000     73.56       100          20   \n",
       "4             Nome  64.5011 -165.4064     46.47        71         100   \n",
       "..             ...      ...       ...       ...       ...         ...   \n",
       "548        Pirganj  25.8523   88.3618     88.48        69          99   \n",
       "549        Kavieng  -2.5744  150.7967     83.34        71         100   \n",
       "550      Tambopata -12.7333  -69.1833     75.33        77         100   \n",
       "551  Fenelon Falls  44.5334  -78.7496     69.57        80          90   \n",
       "552     Maningrida -12.0667  134.2667     85.21        37          20   \n",
       "\n",
       "     Wind Speed Country        Date  \n",
       "0          9.04      CN  1658293787  \n",
       "1          9.35      VN  1658293787  \n",
       "2         20.58      CA  1658293787  \n",
       "3         11.50      TO  1658293787  \n",
       "4          5.75      US  1658293536  \n",
       "..          ...     ...         ...  \n",
       "548        8.34      BD  1658293960  \n",
       "549        5.23      PG  1658293960  \n",
       "550        2.01      PE  1658293960  \n",
       "551        5.19      CA  1658293961  \n",
       "552        8.48      AU  1658293961  \n",
       "\n",
       "[553 rows x 9 columns]"
      ]
     },
     "execution_count": 8,
     "metadata": {},
     "output_type": "execute_result"
    }
   ],
   "source": [
    "weather_file = os.path.join('..', 'WeatherPy', 'Resources', 'Cities.csv')\n",
    "\n",
    "weather_df = pd.read_csv(weather_file)\n",
    "weather_df"
   ]
  },
  {
   "cell_type": "markdown",
   "metadata": {},
   "source": [
    "### Humidity Heatmap\n",
    "* Configure gmaps.\n",
    "* Use the Lat and Lng as locations and Humidity as the weight.\n",
    "* Add Heatmap layer to map."
   ]
  },
  {
   "cell_type": "code",
   "execution_count": 9,
   "metadata": {},
   "outputs": [
    {
     "data": {
      "text/plain": [
       "100"
      ]
     },
     "execution_count": 9,
     "metadata": {},
     "output_type": "execute_result"
    }
   ],
   "source": [
    "#Configuring gmaps\n",
    "gmaps.configure(api_key=g_key)\n",
    "\n",
    "#Make locations and weights to configure\n",
    "locations = weather_df[['Lat', 'Lng']]\n",
    "\n",
    "#Change humidity from string to float to avoid ValueError\n",
    "weights = weather_df['Humidity'].astype(float)\n",
    "max_humidity = max(weather_df[\"Humidity\"])\n",
    "\n",
    "max_humidity"
   ]
  },
  {
   "cell_type": "code",
   "execution_count": 11,
   "metadata": {},
   "outputs": [
    {
     "data": {
      "application/vnd.jupyter.widget-view+json": {
       "model_id": "50ebc9b0b3d642759dd7f806ad04ec32",
       "version_major": 2,
       "version_minor": 0
      },
      "text/plain": [
       "Figure(layout=FigureLayout(height='420px'))"
      ]
     },
     "metadata": {},
     "output_type": "display_data"
    }
   ],
   "source": [
    "#adding heatmap layer\n",
    "fig = gmaps.figure()\n",
    "heat_layer = gmaps.heatmap_layer(locations, weights=weights, dissipating=False, max_intensity = max_humidity, point_radius=1)\n",
    "\n",
    "fig.add_layer(heat_layer)\n",
    "\n",
    "fig"
   ]
  },
  {
   "cell_type": "markdown",
   "metadata": {},
   "source": [
    "### Create new DataFrame fitting weather criteria\n",
    "* Narrow down the cities to fit weather conditions.\n",
    "* Drop any rows will null values."
   ]
  },
  {
   "cell_type": "code",
   "execution_count": null,
   "metadata": {},
   "outputs": [],
   "source": [
    "new_weather_df = "
   ]
  },
  {
   "cell_type": "markdown",
   "metadata": {},
   "source": [
    "### Hotel Map\n",
    "* Store into variable named `hotel_df`.\n",
    "* Add a \"Hotel Name\" column to the DataFrame.\n",
    "* Set parameters to search for hotels with 5000 meters.\n",
    "* Hit the Google Places API for each city's coordinates.\n",
    "* Store the first Hotel result into the DataFrame.\n",
    "* Plot markers on top of the heatmap."
   ]
  },
  {
   "cell_type": "code",
   "execution_count": null,
   "metadata": {},
   "outputs": [],
   "source": []
  },
  {
   "cell_type": "code",
   "execution_count": null,
   "metadata": {},
   "outputs": [],
   "source": []
  },
  {
   "cell_type": "code",
   "execution_count": null,
   "metadata": {},
   "outputs": [],
   "source": [
    "# NOTE: Do not change any of the code in this cell\n",
    "\n",
    "# Using the template add the hotel marks to the heatmap\n",
    "info_box_template = \"\"\"\n",
    "<dl>\n",
    "<dt>Name</dt><dd>{Hotel Name}</dd>\n",
    "<dt>City</dt><dd>{City}</dd>\n",
    "<dt>Country</dt><dd>{Country}</dd>\n",
    "</dl>\n",
    "\"\"\"\n",
    "# Store the DataFrame Row\n",
    "# NOTE: be sure to update with your DataFrame name\n",
    "hotel_info = [info_box_template.format(**row) for index, row in hotel_df.iterrows()]\n",
    "locations = hotel_df[[\"Lat\", \"Lng\"]]"
   ]
  },
  {
   "cell_type": "code",
   "execution_count": null,
   "metadata": {},
   "outputs": [],
   "source": [
    "# Add marker layer ontop of heat map\n",
    "\n",
    "\n",
    "# Display figure\n"
   ]
  },
  {
   "cell_type": "code",
   "execution_count": null,
   "metadata": {},
   "outputs": [],
   "source": []
  }
 ],
 "metadata": {
  "kernelspec": {
   "display_name": "Python 3 (ipykernel)",
   "language": "python",
   "name": "python3"
  },
  "language_info": {
   "codemirror_mode": {
    "name": "ipython",
    "version": 3
   },
   "file_extension": ".py",
   "mimetype": "text/x-python",
   "name": "python",
   "nbconvert_exporter": "python",
   "pygments_lexer": "ipython3",
   "version": "3.9.7"
  },
  "latex_envs": {
   "LaTeX_envs_menu_present": true,
   "autoclose": false,
   "autocomplete": true,
   "bibliofile": "biblio.bib",
   "cite_by": "apalike",
   "current_citInitial": 1,
   "eqLabelWithNumbers": true,
   "eqNumInitial": 1,
   "hotkeys": {
    "equation": "Ctrl-E",
    "itemize": "Ctrl-I"
   },
   "labels_anchors": false,
   "latex_user_defs": false,
   "report_style_numbering": false,
   "user_envs_cfg": false
  }
 },
 "nbformat": 4,
 "nbformat_minor": 4
}
